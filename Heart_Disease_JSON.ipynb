{
 "cells": [
  {
   "cell_type": "code",
   "execution_count": 1,
   "id": "opened-involvement",
   "metadata": {},
   "outputs": [],
   "source": [
    "from flask import Flask, request, jsonify\n",
    "import numpy as np\n",
    "from tensorflow.keras.models import load_model\n",
    "import joblib\n",
    "\n",
    "def return_prediction(model, scaler, sample_json):\n",
    "    \n",
    "    age = sample_json[\"age\"]\n",
    "    sex = sample_json[\"sex\"]\n",
    "    cp = sample_json['cp']\n",
    "    trestbps = sample_json['trestbps']\n",
    "    chol = sample_json['chol']\n",
    "    fbs = sample_json['fbs']\n",
    "    restecg = sample_json['restecg']\n",
    "    thalach = sample_json['thalach']\n",
    "    exang = sample_json['exang']\n",
    "    oldpeak = sample_json['oldpeak']\n",
    "    slope = sample_json['slope']\n",
    "    ca = sample_json['ca']\n",
    "    thal = sample_json['thal']\n",
    "    \n",
    "    heart = [[age, sex, cp, trestbps, chol, fbs, restecg, \n",
    "    thalach, exang, oldpeak, slope, ca, thal]]\n",
    "    \n",
    "    heart = scaler.transform(heart)\n",
    "    \n",
    "    classes = np.array(['0','1'])\n",
    "    \n",
    "    class_ind = model.predict(heart)\n",
    "    \n",
    "    return class_ind"
   ]
  },
  {
   "cell_type": "code",
   "execution_count": 5,
   "id": "criminal-collins",
   "metadata": {},
   "outputs": [
    {
     "name": "stdout",
     "output_type": "stream",
     "text": [
      "WARNING:tensorflow:Sequential models without an `input_shape` passed to the first layer cannot reload their optimizer state. As a result, your model isstarting with a freshly initialized optimizer.\n"
     ]
    }
   ],
   "source": [
    "heart_model = load_model(\"heart_disease_model_bry.h5\")\n",
    "heart_scaler = joblib.load(\"heart_scaler_bry.pkl\")\n",
    "\n",
    "\n",
    "def prediction():\n",
    "    content = request.json\n",
    "    results = return_prediction(heart_model, heart_scaler, content)\n",
    "    return jsonify(results)"
   ]
  },
  {
   "cell_type": "code",
   "execution_count": 3,
   "id": "informative-pierce",
   "metadata": {},
   "outputs": [],
   "source": [
    "heart = {\n",
    "    \"age\": 53,\n",
    "    \"sex\": 1,\n",
    "    \"cp\": 0,\n",
    "    \"trestbps\": 125,\n",
    "    \"chol\": 212,\n",
    "    \"fbs\": 0,\n",
    "    \"restecg\": 1,\n",
    "    \"thalach\": 168,\n",
    "    \"exang\": 0,\n",
    "    \"oldpeak\": 1.0,\n",
    "    \"slope\": 2,\n",
    "    \"ca\": 2,\n",
    "    \"thal\": 3\n",
    "}"
   ]
  },
  {
   "cell_type": "code",
   "execution_count": 4,
   "id": "spread-optimum",
   "metadata": {},
   "outputs": [
    {
     "data": {
      "text/plain": [
       "array([[0.0013793]], dtype=float32)"
      ]
     },
     "execution_count": 4,
     "metadata": {},
     "output_type": "execute_result"
    }
   ],
   "source": [
    "return_prediction(heart_model,heart_scaler, heart)"
   ]
  },
  {
   "cell_type": "code",
   "execution_count": null,
   "id": "external-compilation",
   "metadata": {},
   "outputs": [],
   "source": []
  },
  {
   "cell_type": "code",
   "execution_count": null,
   "id": "differential-manner",
   "metadata": {},
   "outputs": [],
   "source": []
  }
 ],
 "metadata": {
  "kernelspec": {
   "display_name": "Python 3",
   "language": "python",
   "name": "python3"
  },
  "language_info": {
   "codemirror_mode": {
    "name": "ipython",
    "version": 3
   },
   "file_extension": ".py",
   "mimetype": "text/x-python",
   "name": "python",
   "nbconvert_exporter": "python",
   "pygments_lexer": "ipython3",
   "version": "3.7.9"
  }
 },
 "nbformat": 4,
 "nbformat_minor": 5
}
